{
 "cells": [
  {
   "cell_type": "code",
   "execution_count": null,
   "id": "591ec8b1",
   "metadata": {},
   "outputs": [],
   "source": [
    "#Harivdan Narayanshastri\n",
    "#Face Analysis: Age, Gender, Race & Emotion Recognition.\n",
    "from deepface import DeepFace\n",
    "import cv2\n",
    "import matplotlib.pyplot as plt"
   ]
  },
  {
   "cell_type": "code",
   "execution_count": null,
   "id": "0fe2346a",
   "metadata": {},
   "outputs": [],
   "source": [
    "img = cv2.imread('C:/Users/Admin/Downloads/final_age_gender/ang2.jpg')\n",
    "imgplot = plt.imshow(img)\n",
    "obj = DeepFace.analyze(img_path = \"C:/Users/Admin/Downloads/final_age_gender/ang2.jpg\", actions = ['age', 'gender', 'race', 'emotion'])\n",
    "#obj=int(obj[3])\n",
    "#print(obj[\"age\"],\" years old \",obj[\"dominant_race\"],\" \",obj[\"dominant_emotion\"],\" \", obj[\"gender\"])\n",
    "#obj = DeepFace.analyze(img_path = \"img12.jpg\", actions = ['age', 'gender', 'race', 'emotion'])\n",
    "print(obj)"
   ]
  },
  {
   "cell_type": "code",
   "execution_count": null,
   "id": "0fe2346a",
   "metadata": {},
   "outputs": [],
   "source": [
    "img = cv2.imread('C:/Users/Admin/Downloads/final_age_gender/ang2.jpg')\n",
    "imgplot = plt.imshow(img)\n",
    "obj = DeepFace.analyze(img_path = \"C:/Users/Admin/Downloads/final_age_gender/ang2.jpg\", actions = ['age', 'gender', 'race', 'emotion'])\n",
    "#obj=int(obj[3])\n",
    "#print(obj[\"age\"],\" years old \",obj[\"dominant_race\"],\" \",obj[\"dominant_emotion\"],\" \", obj[\"gender\"])\n",
    "#obj = DeepFace.analyze(img_path = \"img12.jpg\", actions = ['age', 'gender', 'race', 'emotion'])\n",
    "print(obj)"
   ]
  }
 ],
 "metadata": {
  "kernelspec": {
   "display_name": "Python 3 (ipykernel)",
   "language": "python",
   "name": "python3"
  },
  "language_info": {
   "codemirror_mode": {
    "name": "ipython",
    "version": 3
   },
   "file_extension": ".py",
   "mimetype": "text/x-python",
   "name": "python",
   "nbconvert_exporter": "python",
   "pygments_lexer": "ipython3",
   "version": "3.11.3"
  }
 },
 "nbformat": 4,
 "nbformat_minor": 5
}
